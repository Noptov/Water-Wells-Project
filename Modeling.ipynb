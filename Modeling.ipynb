{
 "cells": [
  {
   "cell_type": "markdown",
   "metadata": {},
   "source": [
    "# Preperation"
   ]
  },
  {
   "cell_type": "markdown",
   "metadata": {},
   "source": [
    "## Import Libraries and Data"
   ]
  },
  {
   "cell_type": "code",
   "execution_count": 1,
   "metadata": {},
   "outputs": [],
   "source": [
    "import pandas as pd\n",
    "import numpy as np"
   ]
  },
  {
   "cell_type": "code",
   "execution_count": 2,
   "metadata": {},
   "outputs": [],
   "source": [
    "labels = pd.read_csv('data/traininglabels.csv')\n",
    "data = pd.read_csv('data/trainingdata.csv')\n",
    "\n",
    "wellsdf = pd.merge(labels, data, on='id')"
   ]
  },
  {
   "cell_type": "markdown",
   "metadata": {},
   "source": [
    "## Clean Data\n",
    "Per the rational in EDA notebook"
   ]
  },
  {
   "cell_type": "code",
   "execution_count": 3,
   "metadata": {},
   "outputs": [],
   "source": [
    "wells2 = wellsdf.copy()\n",
    "\n",
    "wells2 = wells2.drop(['funder', 'installer', 'scheme_name', 'public_meeting', 'scheme_management',\n",
    "                      'id', 'amount_tsh', 'num_private', 'permit', 'subvillage'], axis=1)\n",
    "\n",
    "# Convert numeric that should be categorical\n",
    "wells2[['region_code', 'district_code']] = wells2[['region_code', 'district_code']].astype('str')"
   ]
  },
  {
   "cell_type": "markdown",
   "metadata": {},
   "source": [
    "#### Simplify and convert date_recorded to year_recorded"
   ]
  },
  {
   "cell_type": "code",
   "execution_count": 4,
   "metadata": {},
   "outputs": [],
   "source": [
    "wells2.date_recorded = pd.to_datetime(wells2.date_recorded)\n",
    "wells2['year_recorded'] = pd.DatetimeIndex(wells2['date_recorded']).year\n",
    "wells2.drop('date_recorded', axis=1, inplace=True)"
   ]
  },
  {
   "cell_type": "markdown",
   "metadata": {},
   "source": [
    "##### Construction year\n",
    "Remove rows with zero, average the remainder, set zeros in wells2 to that value"
   ]
  },
  {
   "cell_type": "code",
   "execution_count": 5,
   "metadata": {},
   "outputs": [],
   "source": [
    "con_year = wells2.drop(wells2[wells2.construction_year == 0].index) \n",
    "con_avg = con_year.construction_year.mean().round(0)\n",
    "\n",
    "wells2.construction_year.replace(0, con_avg, inplace=True)"
   ]
  },
  {
   "cell_type": "markdown",
   "metadata": {},
   "source": [
    "#### Lat & Long\n",
    "The default value for longitude (0) is outside of Tanzania (40°29' E to 29°10' E), so it will be replaced by the mean longitude from the dataset.  While the default value for latitude is possible, it may skew our data more north (-2), so it will be replaced with the mean latitude."
   ]
  },
  {
   "cell_type": "code",
   "execution_count": 6,
   "metadata": {},
   "outputs": [],
   "source": [
    "longitude = wells2.drop(wells2[wells2.longitude == 0].index) \n",
    "long_avg = longitude.longitude.mean()\n",
    "wells2.longitude.replace(0, long_avg, inplace=True)\n",
    "\n",
    "latitude = wells2.drop(wells2[wells2.latitude == -2.000000e-08].index) \n",
    "lat_avg = latitude.latitude.mean()\n",
    "wells2.latitude.replace(-2.000000e-08, lat_avg, inplace=True)"
   ]
  },
  {
   "cell_type": "markdown",
   "metadata": {},
   "source": [
    "# Modeling"
   ]
  },
  {
   "cell_type": "markdown",
   "metadata": {},
   "source": [
    "## Create Pipelines"
   ]
  },
  {
   "cell_type": "code",
   "execution_count": null,
   "metadata": {},
   "outputs": [],
   "source": []
  }
 ],
 "metadata": {
  "kernelspec": {
   "display_name": "Python (learn-env)",
   "language": "python",
   "name": "learn-env"
  },
  "language_info": {
   "codemirror_mode": {
    "name": "ipython",
    "version": 3
   },
   "file_extension": ".py",
   "mimetype": "text/x-python",
   "name": "python",
   "nbconvert_exporter": "python",
   "pygments_lexer": "ipython3",
   "version": "3.8.5"
  }
 },
 "nbformat": 4,
 "nbformat_minor": 4
}
